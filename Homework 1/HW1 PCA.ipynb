{
 "cells": [
  {
   "cell_type": "code",
   "execution_count": 10,
   "metadata": {},
   "outputs": [],
   "source": [
    "import torch\n",
    "import torch.nn as nn\n",
    "import torch.optim as optim\n",
    "from torchvision import datasets, transforms\n",
    "from torch.autograd import Variable\n",
    "import torch.nn.functional as F\n",
    "import numpy as np\n",
    "import matplotlib.pyplot as plt\n",
    "import os\n",
    "import pandas as pd\n",
    "from sklearn.decomposition import PCA"
   ]
  },
  {
   "cell_type": "code",
   "execution_count": 2,
   "metadata": {},
   "outputs": [],
   "source": [
    "torch.manual_seed(1)\n",
    "os.environ['KMP_DUPLICATE_LIB_OK']='True'"
   ]
  },
  {
   "cell_type": "code",
   "execution_count": 3,
   "metadata": {},
   "outputs": [],
   "source": [
    "def load_data(train_batch_size, test_batch_size):\n",
    "    # Fetch training data: total 60000 samples\n",
    "        \n",
    "    trainset = datasets.MNIST('data', train = True, download = False, \n",
    "                transform = transforms.Compose([\n",
    "                transforms.ToTensor()\n",
    "                ]))\n",
    "    train_loader = torch.utils.data.DataLoader(trainset, batch_size = train_batch_size, shuffle=True)\n",
    "\n",
    "    testset = datasets.MNIST('data', train = False, download = False, \n",
    "                transform = transforms.Compose([\n",
    "                transforms.ToTensor()\n",
    "                ]))\n",
    "    test_loader = torch.utils.data.DataLoader(testset ,batch_size = test_batch_size, shuffle=True)\n",
    "\n",
    "    return (train_loader, test_loader)"
   ]
  },
  {
   "cell_type": "code",
   "execution_count": 4,
   "metadata": {},
   "outputs": [],
   "source": [
    "class Model1 (nn.Module):\n",
    "    def __init__(self):\n",
    "        super().__init__()\n",
    "        self.fc1 = nn.Linear(784, 10)\n",
    "        self.fc2 = nn.Linear(10, 20)\n",
    "        self.fc3 = nn.Linear(20, 10)\n",
    "\n",
    "    def forward(self, val):\n",
    "        val = F.relu(self.fc1(val))\n",
    "        val = F.relu(self.fc2(val))\n",
    "        val = self.fc3(val)\n",
    "        return val"
   ]
  },
  {
   "cell_type": "code",
   "execution_count": 5,
   "metadata": {},
   "outputs": [],
   "source": [
    "def calculate_loss(model, loader, loss_fn):\n",
    "    correct = 0\n",
    "    total = 0\n",
    "    costTotal = 0\n",
    "    costCounter = 0\n",
    "    with torch.no_grad():\n",
    "        for batch in loader:\n",
    "            data, target = batch\n",
    "            output = model(data.view(-1, 784))\n",
    "            cost = loss_fn(output, target)\n",
    "            costTotal += cost\n",
    "            costCounter += 1\n",
    "            for i, outputTensor in enumerate(output):\n",
    "                if torch.argmax(outputTensor) == target[i]:\n",
    "                    correct += 1\n",
    "                total += 1\n",
    "    return costTotal / costCounter, round(correct/total, 3)"
   ]
  },
  {
   "cell_type": "code",
   "execution_count": 6,
   "metadata": {},
   "outputs": [],
   "source": [
    "#train function\n",
    "def trainFunc(model, num_epochs):\n",
    "    model.train()\n",
    "    epoch = 0 \n",
    "    \n",
    "    df = pd.DataFrame()\n",
    "    for epoch in range (num_epochs):\n",
    "        epoch += 1\n",
    "\n",
    "        for _, (images, labels) in enumerate(train_loader):  \n",
    "            images, labels = Variable(images),Variable(labels)     \n",
    "            optimizer.zero_grad()\n",
    "            prediction = model(images.view(-1, 784))\n",
    "            loss = loss_fn(prediction, labels)\n",
    "            loss.backward()\n",
    "            optimizer.step()\n",
    "\n",
    "        temp_df = pd.DataFrame()\n",
    "        for name, parameter in model.named_parameters():\n",
    "            if 'weight' in name:\n",
    "                weights = torch.nn.utils.parameters_to_vector(parameter).detach().numpy() \n",
    "                temp_df = pd.concat([temp_df, pd.DataFrame(weights).T], axis = 1)\n",
    "        df = pd.concat([df, temp_df], axis = 0)\n",
    "        train_loss, train_acc = calculate_loss(M, train_loader, loss_fn)\n",
    "        test_loss, test_acc = calculate_loss(M, test_loader, loss_fn)\n",
    "\n",
    "        train_loss_arr.append(train_loss)\n",
    "        test_loss_arr.append(test_loss)\n",
    "        train_acc_arr.append(train_acc)\n",
    "        test_acc_arr.append(test_acc)\n",
    "\n",
    "    return df"
   ]
  },
  {
   "cell_type": "code",
   "execution_count": 7,
   "metadata": {},
   "outputs": [],
   "source": [
    "train_batch_size = 1000\n",
    "test_batch_size = 1000\n",
    "train_loader, test_loader = load_data(train_batch_size, test_batch_size)\n",
    "train_loss_arr = []\n",
    "test_loss_arr = []\n",
    "train_acc_arr = []\n",
    "test_acc_arr = []"
   ]
  },
  {
   "cell_type": "code",
   "execution_count": 8,
   "metadata": {},
   "outputs": [
    {
     "name": "stdout",
     "output_type": "stream",
     "text": [
      "Time: 0\n"
     ]
    },
    {
     "name": "stderr",
     "output_type": "stream",
     "text": [
      "C:\\Users\\nikhi\\AppData\\Local\\Temp/ipykernel_17924/2797663438.py:14: FutureWarning: The frame.append method is deprecated and will be removed from pandas in a future version. Use pandas.concat instead.\n",
      "  all_df = all_df.append(temp_df)\n"
     ]
    },
    {
     "name": "stdout",
     "output_type": "stream",
     "text": [
      "Time: 1\n"
     ]
    },
    {
     "name": "stderr",
     "output_type": "stream",
     "text": [
      "C:\\Users\\nikhi\\AppData\\Local\\Temp/ipykernel_17924/2797663438.py:14: FutureWarning: The frame.append method is deprecated and will be removed from pandas in a future version. Use pandas.concat instead.\n",
      "  all_df = all_df.append(temp_df)\n"
     ]
    },
    {
     "name": "stdout",
     "output_type": "stream",
     "text": [
      "Time: 2\n"
     ]
    },
    {
     "name": "stderr",
     "output_type": "stream",
     "text": [
      "C:\\Users\\nikhi\\AppData\\Local\\Temp/ipykernel_17924/2797663438.py:14: FutureWarning: The frame.append method is deprecated and will be removed from pandas in a future version. Use pandas.concat instead.\n",
      "  all_df = all_df.append(temp_df)\n"
     ]
    },
    {
     "name": "stdout",
     "output_type": "stream",
     "text": [
      "Time: 3\n"
     ]
    },
    {
     "name": "stderr",
     "output_type": "stream",
     "text": [
      "C:\\Users\\nikhi\\AppData\\Local\\Temp/ipykernel_17924/2797663438.py:14: FutureWarning: The frame.append method is deprecated and will be removed from pandas in a future version. Use pandas.concat instead.\n",
      "  all_df = all_df.append(temp_df)\n"
     ]
    },
    {
     "name": "stdout",
     "output_type": "stream",
     "text": [
      "Time: 4\n"
     ]
    },
    {
     "name": "stderr",
     "output_type": "stream",
     "text": [
      "C:\\Users\\nikhi\\AppData\\Local\\Temp/ipykernel_17924/2797663438.py:14: FutureWarning: The frame.append method is deprecated and will be removed from pandas in a future version. Use pandas.concat instead.\n",
      "  all_df = all_df.append(temp_df)\n"
     ]
    },
    {
     "name": "stdout",
     "output_type": "stream",
     "text": [
      "Time: 5\n"
     ]
    },
    {
     "name": "stderr",
     "output_type": "stream",
     "text": [
      "C:\\Users\\nikhi\\AppData\\Local\\Temp/ipykernel_17924/2797663438.py:14: FutureWarning: The frame.append method is deprecated and will be removed from pandas in a future version. Use pandas.concat instead.\n",
      "  all_df = all_df.append(temp_df)\n"
     ]
    },
    {
     "name": "stdout",
     "output_type": "stream",
     "text": [
      "Time: 6\n"
     ]
    },
    {
     "name": "stderr",
     "output_type": "stream",
     "text": [
      "C:\\Users\\nikhi\\AppData\\Local\\Temp/ipykernel_17924/2797663438.py:14: FutureWarning: The frame.append method is deprecated and will be removed from pandas in a future version. Use pandas.concat instead.\n",
      "  all_df = all_df.append(temp_df)\n"
     ]
    },
    {
     "name": "stdout",
     "output_type": "stream",
     "text": [
      "Time: 7\n"
     ]
    },
    {
     "name": "stderr",
     "output_type": "stream",
     "text": [
      "C:\\Users\\nikhi\\AppData\\Local\\Temp/ipykernel_17924/2797663438.py:14: FutureWarning: The frame.append method is deprecated and will be removed from pandas in a future version. Use pandas.concat instead.\n",
      "  all_df = all_df.append(temp_df)\n"
     ]
    }
   ],
   "source": [
    "max_epochs = 45\n",
    "all_df = pd.DataFrame()\n",
    "columns=[\"x\",\"y\",\"Times\"]\n",
    "\n",
    "loss_fn = nn.CrossEntropyLoss()\n",
    "\n",
    "for count in range(8):\n",
    "    print(\"Time: \"+str(count))\n",
    "    M = Model1()\n",
    "    optimizer = torch.optim.Adam(M.parameters(),lr = 0.0004, weight_decay=1e-4)\n",
    "    model_name1 = \"Times: \"+str(count)    \n",
    "    temp_df = trainFunc(M, max_epochs)\n",
    "\n",
    "    all_df = all_df.append(temp_df)\n",
    "    "
   ]
  },
  {
   "cell_type": "code",
   "execution_count": 11,
   "metadata": {},
   "outputs": [],
   "source": [
    "df = all_df\n",
    "df = np.array(df)\n",
    "pca = PCA(n_components=2)\n",
    "new_data = pca.fit_transform(df)"
   ]
  },
  {
   "cell_type": "code",
   "execution_count": 12,
   "metadata": {},
   "outputs": [],
   "source": [
    "df = pd.DataFrame(new_data, columns=['x','y'])\n",
    "df['Accuracy'] = train_acc_arr\n",
    "df['Loss'] = train_loss_arr\n",
    "final_df = df.iloc[::3, :]"
   ]
  },
  {
   "cell_type": "code",
   "execution_count": 36,
   "metadata": {},
   "outputs": [
    {
     "data": {
      "image/png": "[encoded data removed]",
      "text/plain": [
       "<Figure size 432x288 with 1 Axes>"
      ]
     },
     "metadata": {
      "needs_background": "light"
     },
     "output_type": "display_data"
    }
   ],
   "source": [
    "for i in range(120):\n",
    "    m = list(final_df['Accuracy'])[i]\n",
    "    plt.scatter(final_df['x'][i*3], final_df['y'][i*3], marker = f'${m}$')\n",
    "    plt.title(\"PCA for model\")"
   ]
  },
  {
   "cell_type": "code",
   "execution_count": 43,
   "metadata": {},
   "outputs": [],
   "source": [
    "layer_1 = all_df.iloc[ : , 0:7840]"
   ]
  },
  {
   "cell_type": "code",
   "execution_count": 45,
   "metadata": {},
   "outputs": [],
   "source": [
    "df = layer_1\n",
    "df = np.array(df)\n",
    "pca = PCA(n_components=2)\n",
    "new_data = pca.fit_transform(df)"
   ]
  },
  {
   "cell_type": "code",
   "execution_count": 46,
   "metadata": {},
   "outputs": [],
   "source": [
    "df = pd.DataFrame(new_data, columns=['x','y'])\n",
    "df['Accuracy'] = train_acc_arr\n",
    "df['Loss'] = train_loss_arr\n",
    "final_df = df.iloc[::3, :]"
   ]
  },
  {
   "cell_type": "code",
   "execution_count": 48,
   "metadata": {},
   "outputs": [
    {
     "data": {
      "image/png": "[encoded data removed]",
      "text/plain": [
       "<Figure size 432x288 with 1 Axes>"
      ]
     },
     "metadata": {
      "needs_background": "light"
     },
     "output_type": "display_data"
    }
   ],
   "source": [
    "for i in range(120):\n",
    "    m = list(final_df['Accuracy'])[i]\n",
    "    plt.scatter(final_df['x'][i*3], final_df['y'][i*3], marker = f'${m}$')\n",
    "    plt.title(\"PCA for 1 layer\")"
   ]
  },
  {
   "cell_type": "code",
   "execution_count": null,
   "metadata": {},
   "outputs": [],
   "source": []
  }
 ],
 "metadata": {
  "interpreter": {
   "hash": "5a03e6978a913b76a01264f69485476c06bb2afb04825931e6a903524ca57e27"
  },
  "kernelspec": {
   "display_name": "Python 3.8.3 ('base')",
   "language": "python",
   "name": "python3"
  },
  "language_info": {
   "codemirror_mode": {
    "name": "ipython",
    "version": 3
   },
   "file_extension": ".py",
   "mimetype": "text/x-python",
   "name": "python",
   "nbconvert_exporter": "python",
   "pygments_lexer": "ipython3",
   "version": "3.9.7"
  },
  "orig_nbformat": 4
 },
 "nbformat": 4,
 "nbformat_minor": 2
}
