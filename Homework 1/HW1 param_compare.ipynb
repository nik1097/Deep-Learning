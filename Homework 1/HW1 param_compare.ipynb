{
 "cells": [
  {
   "cell_type": "code",
   "execution_count": 1,
   "metadata": {},
   "outputs": [],
   "source": [
    "import torch\n",
    "import torch.nn as nn\n",
    "import torch.optim as optim\n",
    "from torchvision import datasets, transforms\n",
    "from torch.autograd import Variable\n",
    "from PIL import Image\n",
    "import torch.nn.functional as F\n",
    "import numpy as np\n",
    "import matplotlib.pyplot as plt\n",
    "import os"
   ]
  },
  {
   "cell_type": "code",
   "execution_count": 3,
   "metadata": {},
   "outputs": [
    {
     "data": {
      "text/plain": [
       "<torch._C.Generator at 0x21f90c09690>"
      ]
     },
     "execution_count": 3,
     "metadata": {},
     "output_type": "execute_result"
    }
   ],
   "source": [
    "torch.manual_seed(1)\n",
    "os.environ['KMP_DUPLICATE_LIB_OK']='True'"
   ]
  },
  {
   "cell_type": "code",
   "execution_count": 4,
   "metadata": {},
   "outputs": [],
   "source": [
    "def load_data(train_batch_size, test_batch_size):\n",
    "    # Fetch training data: total 60000 samples\n",
    "        \n",
    "    trainset = datasets.MNIST('data', train = True, download = False, \n",
    "                transform = transforms.Compose([\n",
    "                transforms.ToTensor()\n",
    "                ]))\n",
    "    train_loader = torch.utils.data.DataLoader(trainset, batch_size = train_batch_size, shuffle=True)\n",
    "\n",
    "    testset = datasets.MNIST('data', train = False, download = False, \n",
    "                transform = transforms.Compose([\n",
    "                transforms.ToTensor()\n",
    "                ]))\n",
    "    test_loader = torch.utils.data.DataLoader(testset ,batch_size = test_batch_size, shuffle=True)\n",
    "\n",
    "    return (train_loader, test_loader)"
   ]
  },
  {
   "cell_type": "code",
   "execution_count": 5,
   "metadata": {},
   "outputs": [],
   "source": [
    "class Model1 (nn.Module):\n",
    "    def __init__(self):\n",
    "        super().__init__()\n",
    "        self.fc1 = nn.Linear(784, 5)\n",
    "        self.fc2 = nn.Linear(5, 9)\n",
    "        self.fc3 = nn.Linear(9, 10)\n",
    "\n",
    "    def forward(self, val):\n",
    "        val = F.relu(self.fc1(val))\n",
    "        val = F.relu(self.fc2(val))\n",
    "        val = self.fc3(val)\n",
    "        return val\n",
    "    \n",
    "class Model2 (nn.Module):\n",
    "    def __init__(self):\n",
    "        super().__init__()\n",
    "        self.fc1 = nn.Linear(784, 6)\n",
    "        self.fc2 = nn.Linear(6, 12)\n",
    "        self.fc3 = nn.Linear(12, 10)\n",
    "\n",
    "    def forward(self, val):\n",
    "        val = F.relu(self.fc1(val))\n",
    "        val = F.relu(self.fc2(val))\n",
    "        val = self.fc3(val)\n",
    "        return val\n",
    "    \n",
    "class Model3 (nn.Module):\n",
    "    def __init__(self):\n",
    "        super().__init__()\n",
    "        self.fc1 = nn.Linear(784, 9)\n",
    "        self.fc2 = nn.Linear(9, 18)\n",
    "        self.fc3 = nn.Linear(18, 10)\n",
    "\n",
    "    def forward(self, val):\n",
    "        val = F.relu(self.fc1(val))\n",
    "        val = F.relu(self.fc2(val))\n",
    "        val = self.fc3(val)\n",
    "        return val\n",
    "\n",
    "class Model4 (nn.Module):\n",
    "    def __init__(self):\n",
    "        super().__init__()\n",
    "        self.fc1 = nn.Linear(784, 10)\n",
    "        self.fc2 = nn.Linear(10, 20)\n",
    "        self.fc3 = nn.Linear(20, 10)\n",
    "\n",
    "    def forward(self, val):\n",
    "        val = F.relu(self.fc1(val))\n",
    "        val = F.relu(self.fc2(val))\n",
    "        val = self.fc3(val)\n",
    "        return val\n",
    "    \n",
    "class Model5 (nn.Module):\n",
    "    def __init__(self):\n",
    "        super().__init__()\n",
    "        self.fc1 = nn.Linear(784, 12)\n",
    "        self.fc2 = nn.Linear(12, 24)\n",
    "        self.fc3 = nn.Linear(24, 10)\n",
    "\n",
    "    def forward(self, val):\n",
    "        val = F.relu(self.fc1(val))\n",
    "        val = F.relu(self.fc2(val))\n",
    "        val = self.fc3(val)\n",
    "        return val\n",
    "    \n",
    "class Model6 (nn.Module):\n",
    "    def __init__(self):\n",
    "        super().__init__()\n",
    "        self.fc1 = nn.Linear(784, 14)\n",
    "        self.fc2 = nn.Linear(14, 28)\n",
    "        self.fc3 = nn.Linear(28, 10)\n",
    "\n",
    "    def forward(self, val):\n",
    "        val = F.relu(self.fc1(val))\n",
    "        val = F.relu(self.fc2(val))\n",
    "        val = self.fc3(val)\n",
    "        return val\n",
    "\n",
    "class Model7 (nn.Module):\n",
    "    def __init__(self):\n",
    "        super().__init__()\n",
    "        self.fc1 = nn.Linear(784, 16)\n",
    "        self.fc2 = nn.Linear(16, 32)\n",
    "        self.fc3 = nn.Linear(32, 10)\n",
    "\n",
    "    def forward(self, val):\n",
    "        val = F.relu(self.fc1(val))\n",
    "        val = F.relu(self.fc2(val))\n",
    "        val = self.fc3(val)\n",
    "        return val\n",
    "\n",
    "class Model8 (nn.Module):\n",
    "    def __init__(self):\n",
    "        super().__init__()\n",
    "        self.fc1 = nn.Linear(784, 30)\n",
    "        self.fc2 = nn.Linear(30, 60)\n",
    "        self.fc3 = nn.Linear(60, 10)\n",
    "\n",
    "    def forward(self, val):\n",
    "        val = F.relu(self.fc1(val))\n",
    "        val = F.relu(self.fc2(val))\n",
    "        val = self.fc3(val)\n",
    "        return val\n",
    "\n",
    "class Model9 (nn.Module):\n",
    "    def __init__(self):\n",
    "        super().__init__()\n",
    "        self.fc1 = nn.Linear(784, 40)\n",
    "        self.fc2 = nn.Linear(40, 80)\n",
    "        self.fc3 = nn.Linear(80, 10)\n",
    "\n",
    "    def forward(self, val):\n",
    "        val = F.relu(self.fc1(val))\n",
    "        val = F.relu(self.fc2(val))\n",
    "        val = self.fc3(val)\n",
    "        return val\n",
    "\n",
    "class Model10 (nn.Module):\n",
    "    def __init__(self):\n",
    "        super().__init__()\n",
    "        self.fc1 = nn.Linear(784, 50)\n",
    "        self.fc2 = nn.Linear(50, 100)\n",
    "        self.fc3 = nn.Linear(100, 10)\n",
    "\n",
    "    def forward(self, val):\n",
    "        val = F.relu(self.fc1(val))\n",
    "        val = F.relu(self.fc2(val))\n",
    "        val = self.fc3(val)\n",
    "        return val"
   ]
  },
  {
   "cell_type": "code",
   "execution_count": 6,
   "metadata": {},
   "outputs": [],
   "source": [
    "train_batch_size = 50\n",
    "test_batch_size = 100\n",
    "log_interval = 100\n",
    "train_loader, test_loader = load_data(train_batch_size, test_batch_size)\n",
    "epochs = 10"
   ]
  },
  {
   "cell_type": "code",
   "execution_count": 7,
   "metadata": {},
   "outputs": [],
   "source": [
    "def calc_params(model):\n",
    "    return sum(p.numel() for p in model.parameters())\n",
    "def define_optimizer(model):\n",
    "    return optim.Adam(model.parameters(), lr = 0.0001)"
   ]
  },
  {
   "cell_type": "code",
   "execution_count": 8,
   "metadata": {},
   "outputs": [],
   "source": [
    "def train(model, optimizer, epoch, train_loader, log_interval):\n",
    "    model.train()\n",
    "    loss_fn = torch.nn.CrossEntropyLoss()\n",
    "    n_correct = 0\n",
    "    n_samples = 0\n",
    "\n",
    "    for batch_idx, (data, target) in enumerate(train_loader):\n",
    "        data, target = Variable(data), Variable(target)\n",
    "        optimizer.zero_grad()\n",
    "\n",
    "        # Forward propagation\n",
    "        output = model(data.view(-1, 784))\n",
    "        loss = loss_fn(output, target)\n",
    "        loss.backward()\n",
    "\n",
    "        optimizer.step()\n",
    "\n",
    "        _, predicted = torch.max(output.data, 1)\n",
    "        n_samples += target.size(0)\n",
    "        n_correct += (predicted == target).sum().item()\n",
    "        acc = 100.0 * n_correct / n_samples\n",
    "\n",
    "    return loss.data, round(acc, 2)"
   ]
  },
  {
   "cell_type": "code",
   "execution_count": 9,
   "metadata": {},
   "outputs": [],
   "source": [
    "def test(model, test_loader):\n",
    "    model.eval()\n",
    "    test_loss = 0\n",
    "    correct = 0\n",
    "    \n",
    "    loss_fn = torch.nn.CrossEntropyLoss(size_average=False)\n",
    "\n",
    "    for data, target in test_loader:\n",
    "        data, target = Variable(data), Variable(target)\n",
    "        \n",
    "        output = model(data.view(-1, 784))\n",
    "        test_loss += loss_fn(output, target).data\n",
    "\n",
    "        pred = np.argmax(output.data, axis=1)\n",
    "        correct = correct + np.equal(pred, target.data).sum()\n",
    "\n",
    "    test_loss /= len(test_loader.dataset)\n",
    "    acc = 100. * correct / len(test_loader.dataset)\n",
    "    return test_loss, acc"
   ]
  },
  {
   "cell_type": "code",
   "execution_count": 10,
   "metadata": {},
   "outputs": [],
   "source": [
    "def compute(model, optimizer):\n",
    "    for epoch in range(1, epochs + 1):\n",
    "        train_loss, train_acc = train(model, optimizer, epoch, train_loader, log_interval)\n",
    "        test_loss, test_acc = test(model, test_loader)\n",
    "    loss_train_arr.append(train_loss)\n",
    "    loss_test_arr.append(test_loss)\n",
    "    param_arr.append(calc_params(model))\n",
    "    print(\"Model Train loss: \", train_loss)\n",
    "    print(\"Model Test loss: \", test_loss)\n",
    "    train_acc_arr.append(train_acc)\n",
    "    test_acc_arr.append(test_acc)\n"
   ]
  },
  {
   "cell_type": "code",
   "execution_count": 11,
   "metadata": {},
   "outputs": [],
   "source": [
    "loss_train_arr = []\n",
    "loss_test_arr = []\n",
    "param_arr = []\n",
    "test_acc_arr = []\n",
    "train_acc_arr = []"
   ]
  },
  {
   "cell_type": "code",
   "execution_count": 12,
   "metadata": {},
   "outputs": [
    {
     "name": "stdout",
     "output_type": "stream",
     "text": [
      "Model 1 parameters:  4079\n"
     ]
    },
    {
     "name": "stderr",
     "output_type": "stream",
     "text": [
      "C:\\Users\\nikhi\\anaconda3\\envs\\deeplearning\\lib\\site-packages\\torch\\nn\\_reduction.py:42: UserWarning: size_average and reduce args will be deprecated, please use reduction='sum' instead.\n",
      "  warnings.warn(warning.format(ret))\n"
     ]
    },
    {
     "name": "stdout",
     "output_type": "stream",
     "text": [
      "Model Train loss:  tensor(0.5084)\n",
      "Model Test loss:  tensor(0.5512)\n",
      "Model 2 parameters:  4924\n",
      "Model Train loss:  tensor(0.3692)\n",
      "Model Test loss:  tensor(0.4250)\n",
      "Model 3 parameters:  7435\n",
      "Model Train loss:  tensor(0.3145)\n",
      "Model Test loss:  tensor(0.3474)\n",
      "Model 4 parameters:  8280\n",
      "Model Train loss:  tensor(0.2801)\n",
      "Model Test loss:  tensor(0.3057)\n",
      "Model 5 parameters:  9982\n",
      "Model Train loss:  tensor(0.2721)\n",
      "Model Test loss:  tensor(0.2991)\n",
      "Model 6 parameters:  11700\n",
      "Model Train loss:  tensor(0.2485)\n",
      "Model Test loss:  tensor(0.2747)\n",
      "Model 7 parameters:  13434\n",
      "Model Train loss:  tensor(0.2008)\n",
      "Model Test loss:  tensor(0.2637)\n",
      "Model 8 parameters:  26020\n",
      "Model Train loss:  tensor(0.1733)\n",
      "Model Test loss:  tensor(0.2245)\n",
      "Model 9 parameters:  35490\n",
      "Model Train loss:  tensor(0.1023)\n",
      "Model Test loss:  tensor(0.1999)\n",
      "Model 10 parameters:  45360\n",
      "Model Train loss:  tensor(0.0842)\n",
      "Model Test loss:  tensor(0.1787)\n"
     ]
    }
   ],
   "source": [
    "model1 = Model1()\n",
    "print(\"Model 1 parameters: \", (calc_params(model1)))\n",
    "optimizer = define_optimizer(model1)\n",
    "compute(model1, optimizer)\n",
    "\n",
    "model2 = Model2()\n",
    "torch.manual_seed(1)\n",
    "print(\"Model 2 parameters: \", (calc_params(model2)))\n",
    "optimizer = define_optimizer(model2)\n",
    "compute(model2, optimizer)\n",
    "\n",
    "model3 = Model3()\n",
    "torch.manual_seed(1)\n",
    "print(\"Model 3 parameters: \", (calc_params(model3)))\n",
    "optimizer = define_optimizer(model3)\n",
    "compute(model3, optimizer)\n",
    "\n",
    "model4 = Model4()\n",
    "torch.manual_seed(1)\n",
    "print(\"Model 4 parameters: \", (calc_params(model4)))\n",
    "optimizer = define_optimizer(model4)\n",
    "compute(model4, optimizer)\n",
    "\n",
    "model5 = Model5()\n",
    "torch.manual_seed(1)\n",
    "print(\"Model 5 parameters: \", (calc_params(model5)))\n",
    "optimizer = define_optimizer(model5)\n",
    "compute(model5, optimizer)\n",
    "\n",
    "model6 = Model6()\n",
    "torch.manual_seed(1)\n",
    "print(\"Model 6 parameters: \", (calc_params(model6)))\n",
    "optimizer = define_optimizer(model6)\n",
    "compute(model6, optimizer)\n",
    "\n",
    "model7 = Model7()\n",
    "torch.manual_seed(1)\n",
    "print(\"Model 7 parameters: \", (calc_params(model7)))\n",
    "optimizer = define_optimizer(model7)\n",
    "compute(model7, optimizer)\n",
    "\n",
    "model8 = Model8()\n",
    "torch.manual_seed(1)\n",
    "print(\"Model 8 parameters: \", (calc_params(model8)))\n",
    "optimizer = define_optimizer(model8)\n",
    "compute(model8, optimizer)\n",
    "\n",
    "model9 = Model9()\n",
    "torch.manual_seed(1)\n",
    "print(\"Model 9 parameters: \", (calc_params(model9)))\n",
    "optimizer = define_optimizer(model9)\n",
    "compute(model9, optimizer)\n",
    "\n",
    "model10 = Model10()\n",
    "torch.manual_seed(1)\n",
    "print(\"Model 10 parameters: \", (calc_params(model10)))\n",
    "optimizer = define_optimizer(model10)\n",
    "compute(model10, optimizer)"
   ]
  },
  {
   "cell_type": "code",
   "execution_count": 13,
   "metadata": {},
   "outputs": [],
   "source": [
    "temp_1 = []\n",
    "for i in loss_train_arr:\n",
    "    temp_1.append(i.data.numpy().tolist())\n",
    "\n",
    "temp_2 = []\n",
    "for i in loss_test_arr:\n",
    "    temp_2.append(i.data.numpy().tolist())"
   ]
  },
  {
   "cell_type": "code",
   "execution_count": 14,
   "metadata": {},
   "outputs": [
    {
     "data": {
      "image/png": "[encoded data removed]",
      "text/plain": [
       "<Figure size 864x432 with 1 Axes>"
      ]
     },
     "metadata": {
      "needs_background": "light"
     },
     "output_type": "display_data"
    }
   ],
   "source": [
    "plt.figure(figsize=(12,6))\n",
    "plt.scatter(param_arr, temp_1, color = \"r\")\n",
    "plt.scatter(param_arr, temp_2, color = \"g\")\n",
    "plt.title('Model Loss Comparision')\n",
    "plt.legend(['Train Loss', 'Test Loss'])\n",
    "plt.xlabel('Parameters')\n",
    "plt.ylabel('Loss')\n",
    "plt.show()"
   ]
  },
  {
   "cell_type": "code",
   "execution_count": 17,
   "metadata": {},
   "outputs": [],
   "source": [
    "temp_3 = []\n",
    "for i in test_acc_arr:\n",
    "    temp_3.append(i.data.numpy().tolist())"
   ]
  },
  {
   "cell_type": "code",
   "execution_count": 19,
   "metadata": {},
   "outputs": [
    {
     "data": {
      "image/png": "[encoded data removed]",
      "text/plain": [
       "<Figure size 864x432 with 1 Axes>"
      ]
     },
     "metadata": {
      "needs_background": "light"
     },
     "output_type": "display_data"
    }
   ],
   "source": [
    "plt.figure(figsize=(12,6))\n",
    "plt.scatter(param_arr, train_acc_arr, color = \"r\")\n",
    "plt.scatter(param_arr, temp_3, color = \"g\")\n",
    "plt.title('Model Acc Comparision')\n",
    "plt.legend(['Train Accuracy', 'Test Accuracy'])\n",
    "plt.xlabel('Parameters')\n",
    "plt.ylabel('Accuracy')\n",
    "plt.show()"
   ]
  },
  {
   "cell_type": "code",
   "execution_count": null,
   "metadata": {},
   "outputs": [],
   "source": []
  }
 ],
 "metadata": {
  "interpreter": {
   "hash": "5bcb6c7cbbdabfbd239545406bf14933d83f61910dc16e50b2bdd97eecb45211"
  },
  "kernelspec": {
   "display_name": "Python 3.9.7 ('pytube')",
   "language": "python",
   "name": "python3"
  },
  "language_info": {
   "codemirror_mode": {
    "name": "ipython",
    "version": 3
   },
   "file_extension": ".py",
   "mimetype": "text/x-python",
   "name": "python",
   "nbconvert_exporter": "python",
   "pygments_lexer": "ipython3",
   "version": "3.9.7"
  },
  "orig_nbformat": 4
 },
 "nbformat": 4,
 "nbformat_minor": 2
}
