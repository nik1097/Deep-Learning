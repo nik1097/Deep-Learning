{
 "cells": [
  {
   "cell_type": "code",
   "execution_count": 70,
   "metadata": {},
   "outputs": [],
   "source": [
    "import matplotlib.pyplot as plt\n",
    "import numpy as np\n",
    "import math\n",
    "import tensorflow.compat.v1 as tf\n",
    "tf.disable_v2_behavior() \n",
    "%matplotlib inline"
   ]
  },
  {
   "cell_type": "code",
   "execution_count": 71,
   "metadata": {},
   "outputs": [],
   "source": [
    "tf.reset_default_graph()\n",
    "tf.set_random_seed(2)\n",
    "np.random.seed(2)"
   ]
  },
  {
   "cell_type": "code",
   "execution_count": 72,
   "metadata": {},
   "outputs": [
    {
     "name": "stdout",
     "output_type": "stream",
     "text": [
      "(300, 1)\n",
      "(300, 1)\n"
     ]
    }
   ],
   "source": [
    "x = np.expand_dims(np.arange(-1.5, 1.5, 0.01),1) \n",
    "print(x.shape)\n",
    "y = np.sinc(5*x)\n",
    "print(y.shape)"
   ]
  },
  {
   "cell_type": "code",
   "execution_count": 73,
   "metadata": {},
   "outputs": [
    {
     "data": {
      "image/png": "[encoded data removed]",
      "text/plain": [
       "<Figure size 720x288 with 1 Axes>"
      ]
     },
     "metadata": {
      "needs_background": "light"
     },
     "output_type": "display_data"
    }
   ],
   "source": [
    "plt.figure(figsize=(10,4))\n",
    "plt.plot(x, y, color = \"red\")\n",
    "plt.title('Function Plot')\n",
    "plt.xlabel('Independent varible')\n",
    "plt.ylabel('Dependent varible')\n",
    "plt.show()"
   ]
  },
  {
   "cell_type": "code",
   "execution_count": 74,
   "metadata": {},
   "outputs": [],
   "source": [
    "in_x = tf.placeholder(tf.float32, [None, 1])\n",
    "out_y = tf.placeholder(tf.float32, [None, 1])"
   ]
  },
  {
   "cell_type": "markdown",
   "metadata": {},
   "source": [
    "### Train Model"
   ]
  },
  {
   "cell_type": "code",
   "execution_count": 75,
   "metadata": {},
   "outputs": [],
   "source": [
    "def train_model():\n",
    "    epoch_arr, loss_arr = [], []\n",
    "    max_epochs = 500\n",
    "    epoch = 0\n",
    "    convergence = False\n",
    "    while not convergence:\n",
    "        epoch +=1\n",
    "\n",
    "        for i in range(300):\n",
    "            _, l, pred = sess.run([opt, loss, out], feed_dict={in_x: x, out_y: y})\n",
    "\n",
    "        epoch_arr.append(epoch)\n",
    "        loss_arr.append(l)\n",
    "\n",
    "        if epoch % 50 == 0:\n",
    "            print('Epoch: {}/{},  Loss Model : {}'.format(epoch, max_epochs, l))\n",
    "\n",
    "        if epoch >= max_epochs:\n",
    "            convergence = True\n",
    "            print('Max epochs reached')\n",
    "\n",
    "    print('\\nModel Training completed\\n')\n",
    "    print('Epoch: {}/{},  Loss Model : {}'.format(epoch, max_epochs, l))\n",
    "    return loss_arr, pred"
   ]
  },
  {
   "cell_type": "markdown",
   "metadata": {},
   "source": [
    "## Model 1"
   ]
  },
  {
   "cell_type": "code",
   "execution_count": 76,
   "metadata": {},
   "outputs": [
    {
     "name": "stdout",
     "output_type": "stream",
     "text": [
      "Number of parameters of Model 1: 571\n"
     ]
    },
    {
     "name": "stderr",
     "output_type": "stream",
     "text": [
      "C:\\Users\\nikhi\\anaconda3\\lib\\site-packages\\keras\\legacy_tf_layers\\core.py:236: UserWarning: `tf.layers.dense` is deprecated and will be removed in a future version. Please use `tf.keras.layers.Dense` instead.\n",
      "  warnings.warn('`tf.layers.dense` is deprecated and '\n",
      "C:\\Users\\nikhi\\anaconda3\\lib\\site-packages\\keras\\engine\\base_layer_v1.py:1676: UserWarning: `layer.apply` is deprecated and will be removed in a future version. Please use `layer.__call__` method instead.\n",
      "  warnings.warn('`layer.apply` is deprecated and '\n"
     ]
    }
   ],
   "source": [
    "h1 = tf.layers.dense(inputs = in_x, units = 5, activation = tf.nn.relu, name='h1')\n",
    "h2 = tf.layers.dense(inputs = h1, units = 10, activation = tf.nn.relu, name='h2')\n",
    "h3 = tf.layers.dense(inputs = h2, units = 10, activation = tf.nn.relu, name='h3')\n",
    "h4 = tf.layers.dense(inputs = h3, units = 10, activation = tf.nn.relu, name='h4')\n",
    "h5 = tf.layers.dense(inputs = h4, units = 10, activation = tf.nn.relu, name='h5')\n",
    "h6 = tf.layers.dense(inputs = h5, units = 10, activation = tf.nn.relu, name='h6')\n",
    "h7 = tf.layers.dense(inputs = h6, units = 5, activation = tf.nn.relu, name='h7')\n",
    "\n",
    "out = tf.layers.dense(inputs=h7, units=1, name='out') \n",
    "\n",
    "params = np.sum([np.prod(v.shape) for v in tf.trainable_variables()]).value\n",
    "print(\"Number of parameters of Model 1:\" , params)"
   ]
  },
  {
   "cell_type": "code",
   "execution_count": 77,
   "metadata": {},
   "outputs": [],
   "source": [
    "loss = tf.losses.mean_squared_error(out_y, out)\n",
    "GD = tf.train.GradientDescentOptimizer(learning_rate=0.01)\n",
    "grads = GD.compute_gradients(loss)\n",
    "opt = GD.apply_gradients(grads)"
   ]
  },
  {
   "cell_type": "code",
   "execution_count": 78,
   "metadata": {},
   "outputs": [
    {
     "name": "stderr",
     "output_type": "stream",
     "text": [
      "C:\\Users\\nikhi\\anaconda3\\lib\\site-packages\\tensorflow\\python\\client\\session.py:1766: UserWarning: An interactive session is already active. This can cause out-of-memory errors in some cases. You must explicitly call `InteractiveSession.close()` to release resources held by the other session(s).\n",
      "  warnings.warn('An interactive session is already active. This can '\n"
     ]
    },
    {
     "name": "stdout",
     "output_type": "stream",
     "text": [
      "Epoch: 50/500,  Loss Model : 0.0037072463892400265\n",
      "Epoch: 100/500,  Loss Model : 0.00344471144489944\n",
      "Epoch: 150/500,  Loss Model : 0.0028693771455436945\n",
      "Epoch: 200/500,  Loss Model : 0.0023967998567968607\n",
      "Epoch: 250/500,  Loss Model : 0.0020329446997493505\n",
      "Epoch: 300/500,  Loss Model : 0.0019462144700810313\n",
      "Epoch: 350/500,  Loss Model : 0.0016073030419647694\n",
      "Epoch: 400/500,  Loss Model : 0.0015731434104964137\n",
      "Epoch: 450/500,  Loss Model : 0.0014236759161576629\n",
      "Epoch: 500/500,  Loss Model : 0.0013278542319312692\n",
      "Max epochs reached\n",
      "\n",
      "Model Training completed\n",
      "\n",
      "Epoch: 500/500,  Loss Model : 0.0013278542319312692\n"
     ]
    }
   ],
   "source": [
    "sess = tf.InteractiveSession() #session allows to execute graphs or part of graphs by allocating resources\n",
    "sess.run(tf.global_variables_initializer())\n",
    "m1_loss_arr, m1_pred = train_model()"
   ]
  },
  {
   "cell_type": "markdown",
   "metadata": {},
   "source": [
    "## Model 2"
   ]
  },
  {
   "cell_type": "code",
   "execution_count": 79,
   "metadata": {},
   "outputs": [],
   "source": [
    "tf.reset_default_graph()\n",
    "in_x = tf.placeholder(tf.float32, [None, 1])\n",
    "out_y = tf.placeholder(tf.float32, [None, 1])"
   ]
  },
  {
   "cell_type": "code",
   "execution_count": 80,
   "metadata": {},
   "outputs": [
    {
     "name": "stdout",
     "output_type": "stream",
     "text": [
      "Number of parameters of Model 2: 572\n"
     ]
    }
   ],
   "source": [
    "h1 = tf.layers.dense(inputs = in_x, units = 10, activation = tf.nn.relu, name='h1')\n",
    "h2 = tf.layers.dense(inputs = h1, units = 18, activation = tf.nn.relu, name='h2')\n",
    "h3 = tf.layers.dense(inputs = h2, units = 15, activation = tf.nn.relu, name='h3')\n",
    "h4 = tf.layers.dense(inputs = h3, units = 4, activation = tf.nn.relu, name='h4')\n",
    "\n",
    "out = tf.layers.dense(inputs=h4, units=1, name='out') \n",
    "\n",
    "params = np.sum([np.prod(v.shape) for v in tf.trainable_variables()]).value\n",
    "print(\"Number of parameters of Model 2:\" , params)"
   ]
  },
  {
   "cell_type": "code",
   "execution_count": 81,
   "metadata": {},
   "outputs": [],
   "source": [
    "loss = tf.losses.mean_squared_error(out_y, out)\n",
    "GD = tf.train.GradientDescentOptimizer(learning_rate=0.01)\n",
    "grads = GD.compute_gradients(loss)\n",
    "opt = GD.apply_gradients(grads)"
   ]
  },
  {
   "cell_type": "code",
   "execution_count": 82,
   "metadata": {},
   "outputs": [
    {
     "name": "stdout",
     "output_type": "stream",
     "text": [
      "Epoch: 50/500,  Loss Model : 0.005421493202447891\n",
      "Epoch: 100/500,  Loss Model : 0.005386859644204378\n",
      "Epoch: 150/500,  Loss Model : 0.005249047186225653\n",
      "Epoch: 200/500,  Loss Model : 0.0050326501950621605\n",
      "Epoch: 250/500,  Loss Model : 0.0031540184281766415\n",
      "Epoch: 300/500,  Loss Model : 0.002502993680536747\n",
      "Epoch: 350/500,  Loss Model : 0.0024245877284556627\n",
      "Epoch: 400/500,  Loss Model : 0.0024002378340810537\n",
      "Epoch: 450/500,  Loss Model : 0.0023905353154987097\n",
      "Epoch: 500/500,  Loss Model : 0.002383900573477149\n",
      "Max epochs reached\n",
      "\n",
      "Model Training completed\n",
      "\n",
      "Epoch: 500/500,  Loss Model : 0.002383900573477149\n"
     ]
    }
   ],
   "source": [
    "sess = tf.InteractiveSession() #session allows to execute graphs or part of graphs by allocating resources\n",
    "sess.run(tf.global_variables_initializer())\n",
    "m2_loss_arr, m2_pred = train_model()"
   ]
  },
  {
   "cell_type": "markdown",
   "metadata": {},
   "source": [
    "## Model 3"
   ]
  },
  {
   "cell_type": "code",
   "execution_count": 83,
   "metadata": {},
   "outputs": [],
   "source": [
    "tf.reset_default_graph()\n",
    "in_x = tf.placeholder(tf.float32, [None, 1])\n",
    "out_y = tf.placeholder(tf.float32, [None, 1])"
   ]
  },
  {
   "cell_type": "code",
   "execution_count": 84,
   "metadata": {},
   "outputs": [
    {
     "name": "stdout",
     "output_type": "stream",
     "text": [
      "Number of parameters of Model 3: 571\n"
     ]
    }
   ],
   "source": [
    "h1 = tf.layers.dense(inputs = in_x, units = 190, activation = tf.nn.relu, name='h1')\n",
    "out = tf.layers.dense(inputs=h1, units=1, name='out') \n",
    "\n",
    "params = np.sum([np.prod(v.shape) for v in tf.trainable_variables()]).value\n",
    "print(\"Number of parameters of Model 3:\" , params)"
   ]
  },
  {
   "cell_type": "code",
   "execution_count": 85,
   "metadata": {},
   "outputs": [],
   "source": [
    "loss = tf.losses.mean_squared_error(out_y, out)\n",
    "GD = tf.train.GradientDescentOptimizer(learning_rate=0.01)\n",
    "grads = GD.compute_gradients(loss)\n",
    "opt = GD.apply_gradients(grads)"
   ]
  },
  {
   "cell_type": "code",
   "execution_count": 86,
   "metadata": {},
   "outputs": [
    {
     "name": "stdout",
     "output_type": "stream",
     "text": [
      "Epoch: 50/500,  Loss Model : 0.026215696707367897\n",
      "Epoch: 100/500,  Loss Model : 0.013407176360487938\n",
      "Epoch: 150/500,  Loss Model : 0.008115599863231182\n",
      "Epoch: 200/500,  Loss Model : 0.00625041825696826\n",
      "Epoch: 250/500,  Loss Model : 0.005580896511673927\n",
      "Epoch: 300/500,  Loss Model : 0.005312704481184483\n",
      "Epoch: 350/500,  Loss Model : 0.005171929951757193\n",
      "Epoch: 400/500,  Loss Model : 0.0051022726111114025\n",
      "Epoch: 450/500,  Loss Model : 0.005059083923697472\n",
      "Epoch: 500/500,  Loss Model : 0.005031152628362179\n",
      "Max epochs reached\n",
      "\n",
      "Model Training completed\n",
      "\n",
      "Epoch: 500/500,  Loss Model : 0.005031152628362179\n"
     ]
    }
   ],
   "source": [
    "sess = tf.InteractiveSession() #session allows to execute graphs or part of graphs by allocating resources\n",
    "sess.run(tf.global_variables_initializer())\n",
    "m3_loss_arr, m3_pred = train_model()"
   ]
  },
  {
   "cell_type": "code",
   "execution_count": 87,
   "metadata": {},
   "outputs": [
    {
     "data": {
      "image/png": "[encoded data removed]",
      "text/plain": [
       "<Figure size 432x288 with 1 Axes>"
      ]
     },
     "metadata": {
      "needs_background": "light"
     },
     "output_type": "display_data"
    }
   ],
   "source": [
    "plt.cla()\n",
    "plt.plot(epoch_arr, m1_loss_arr, 'r', label=\"Model 1 Total Epoch: {}\".format(epoch))\n",
    "plt.plot(epoch_arr, m2_loss_arr, 'g', label=\"Model 2 Total Epoch: {}\".format(epoch))\n",
    "plt.plot(epoch_arr, m3_loss_arr, 'g', label=\"Model 3 Total Epoch: {}\".format(epoch))\n",
    "plt.xlabel('Epoch')\n",
    "plt.ylabel('Loss')\n",
    "plt.legend()\n",
    "plt.show()"
   ]
  },
  {
   "cell_type": "code",
   "execution_count": 88,
   "metadata": {},
   "outputs": [
    {
     "data": {
      "image/png": "[encoded data removed]",
      "text/plain": [
       "<Figure size 432x288 with 1 Axes>"
      ]
     },
     "metadata": {
      "needs_background": "light"
     },
     "output_type": "display_data"
    }
   ],
   "source": [
    "plt.plot(x, m1_pred, 'r', label='Model 1')\n",
    "plt.plot(x, m2_pred, 'g', label='Model 2')\n",
    "plt.plot(x, m3_pred, 'b', Label='Model 3')\n",
    "plt.plot(x, y, 'black', label='True Value')\n",
    "plt.title('Different Models Prediction')\n",
    "plt.legend()\n",
    "plt.show()"
   ]
  }
 ],
 "metadata": {
  "kernelspec": {
   "display_name": "Python 3",
   "language": "python",
   "name": "python3"
  },
  "language_info": {
   "codemirror_mode": {
    "name": "ipython",
    "version": 3
   },
   "file_extension": ".py",
   "mimetype": "text/x-python",
   "name": "python",
   "nbconvert_exporter": "python",
   "pygments_lexer": "ipython3",
   "version": "3.8.3"
  }
 },
 "nbformat": 4,
 "nbformat_minor": 4
}
