{
 "cells": [
  {
   "cell_type": "code",
   "execution_count": 2,
   "metadata": {},
   "outputs": [],
   "source": [
    "import torch\n",
    "import torch.nn as nn\n",
    "import torch.optim as optim\n",
    "from torchvision import datasets, transforms\n",
    "from torch.autograd import Variable\n",
    "from PIL import Image\n",
    "import torch.nn.functional as F\n",
    "import numpy as np\n",
    "import matplotlib.pyplot as plt"
   ]
  },
  {
   "cell_type": "code",
   "execution_count": 3,
   "metadata": {},
   "outputs": [
    {
     "data": {
      "text/plain": [
       "<torch._C.Generator at 0x1aa3564bd90>"
      ]
     },
     "execution_count": 3,
     "metadata": {},
     "output_type": "execute_result"
    }
   ],
   "source": [
    "torch.manual_seed(1)"
   ]
  },
  {
   "cell_type": "code",
   "execution_count": 4,
   "metadata": {},
   "outputs": [],
   "source": [
    "def load_data(train_batch_size, test_batch_size):\n",
    "    # Fetch training data: total 60000 samples\n",
    "        \n",
    "    trainset = datasets.MNIST('data', train = True, download = False, \n",
    "                transform = transforms.Compose([\n",
    "                transforms.Resize((32,32)),\n",
    "                transforms.ToTensor(),\n",
    "                transforms.Normalize((0.1307,), (0.3081,))\n",
    "                ]))\n",
    "    temp = torch.tensor(np.random.randint(0, 10, (len(trainset)),))\n",
    "    print(temp)\n",
    "    trainset.targets = temp\n",
    "    train_loader = torch.utils.data.DataLoader(trainset, batch_size=train_batch_size, shuffle=True)\n",
    "\n",
    "    testset = datasets.MNIST('data', train = False, \n",
    "                transform = transforms.Compose([\n",
    "                transforms.Resize((32, 32)),\n",
    "                transforms.ToTensor(),\n",
    "                transforms.Normalize((0.1307,), (0.3081,))\n",
    "                ]))\n",
    "    test_loader = torch.utils.data.DataLoader(testset ,batch_size = test_batch_size, shuffle=True)\n",
    "\n",
    "    return (train_loader, test_loader)"
   ]
  },
  {
   "cell_type": "code",
   "execution_count": 5,
   "metadata": {},
   "outputs": [],
   "source": [
    "class LeNet(nn.Module):\n",
    "    def __init__(self):\n",
    "        super(LeNet, self).__init__()\n",
    "        \n",
    "        self.conv1 = nn.Conv2d(1, 6, 5)\n",
    "        self.conv2 = nn.Conv2d(6, 16, 5)\n",
    "        self.fc1 = nn.Linear(16 * 5 * 5, 120)\n",
    "        self.fc2 = nn.Linear(120, 84)\n",
    "        self.fc3 = nn.Linear(84, 10)\n",
    "\n",
    "    def forward(self, x):\n",
    "        x = F.max_pool2d(F.relu(self.conv1(x)), 2)\n",
    "        x = F.max_pool2d(F.relu(self.conv2(x)), 2)\n",
    "        # flatten as one dimension\n",
    "        x = x.view(x.size()[0], -1)\n",
    "        x = F.relu(self.fc1(x))\n",
    "        x = F.relu(self.fc2(x))\n",
    "\n",
    "        x = self.fc3(x)\n",
    "        return x"
   ]
  },
  {
   "cell_type": "code",
   "execution_count": 6,
   "metadata": {},
   "outputs": [
    {
     "name": "stdout",
     "output_type": "stream",
     "text": [
      "tensor([5, 8, 8,  ..., 3, 9, 6], dtype=torch.int32)\n"
     ]
    }
   ],
   "source": [
    "train_batch_size = 100\n",
    "test_batch_size = 100\n",
    "train_loader, test_loader = load_data(train_batch_size, test_batch_size)"
   ]
  },
  {
   "cell_type": "code",
   "execution_count": 7,
   "metadata": {},
   "outputs": [],
   "source": [
    "def train(model, optimizer, epoch, train_loader, log_interval):\n",
    "    model.train()\n",
    "    loss_fn = torch.nn.CrossEntropyLoss()\n",
    "    n_correct = 0\n",
    "    n_samples = 0\n",
    "\n",
    "    for batch_idx, (data, target) in enumerate(train_loader):\n",
    "        data, target = Variable(data), Variable(target)\n",
    "        optimizer.zero_grad()\n",
    "\n",
    "        # Forward propagation\n",
    "        output = model(data)\n",
    "        loss = loss_fn(output, target)\n",
    "        loss.backward()\n",
    "\n",
    "        optimizer.step()\n",
    "\n",
    "        _, predicted = torch.max(output.data, 1)\n",
    "        n_samples += target.size(0)\n",
    "        n_correct += (predicted == target).sum().item()\n",
    "        acc = 100.0 * n_correct / n_samples\n",
    "        # print log\n",
    "        \n",
    "        if batch_idx % log_interval == 0:\n",
    "            print('Train set, Epoch {} [{}/{}]\\tLoss: {:.6f}'.format(\n",
    "                epoch, batch_idx * len(data), len(train_loader.dataset),\n",
    "                loss.data))\n",
    "            print(\"Train Accuracy: \", round(acc,2))\n",
    "    return loss.data, round(acc,2)"
   ]
  },
  {
   "cell_type": "code",
   "execution_count": 8,
   "metadata": {},
   "outputs": [],
   "source": [
    "def test(model, epoch, test_loader):\n",
    "    model.eval()\n",
    "    test_loss = 0\n",
    "    correct = 0\n",
    "    \n",
    "    loss_fn = torch.nn.CrossEntropyLoss(size_average=False)\n",
    "\n",
    "    for data, target in test_loader:\n",
    "        data, target = Variable(data), Variable(target)\n",
    "        \n",
    "        output = model(data)\n",
    "        loss = loss_fn(output, target)\n",
    "        test_loss = test_loss + loss.data\n",
    "\n",
    "        pred = np.argmax(output.data, axis = 1)\n",
    "        correct = correct + np.equal(pred, target.data).sum()\n",
    "\n",
    "    # Print log\n",
    "    test_loss /= len(test_loader.dataset)\n",
    "    print('\\nTest set, Epoch {} , Average loss: {:.4f}, Accuracy: {}/{} ({:.0f}%)\\n'.format(epoch,\n",
    "        test_loss, correct, len(test_loader.dataset),\n",
    "        100. * correct / len(test_loader.dataset)))\n",
    "    return test_loss"
   ]
  },
  {
   "cell_type": "code",
   "execution_count": 9,
   "metadata": {},
   "outputs": [
    {
     "name": "stdout",
     "output_type": "stream",
     "text": [
      "Train set, Epoch 1 [0/60000]\tLoss: 2.315072\n",
      "Train Accuracy:  10.0\n",
      "Train set, Epoch 1 [50000/60000]\tLoss: 2.302440\n",
      "Train Accuracy:  9.82\n"
     ]
    },
    {
     "name": "stderr",
     "output_type": "stream",
     "text": [
      "C:\\Users\\nikhi\\anaconda3\\envs\\deeplearning\\lib\\site-packages\\torch\\nn\\_reduction.py:42: UserWarning: size_average and reduce args will be deprecated, please use reduction='sum' instead.\n",
      "  warnings.warn(warning.format(ret))\n"
     ]
    },
    {
     "name": "stdout",
     "output_type": "stream",
     "text": [
      "\n",
      "Test set, Epoch 1 , Average loss: 2.3036, Accuracy: 831/10000 (8%)\n",
      "\n",
      "Train set, Epoch 2 [0/60000]\tLoss: 2.302823\n",
      "Train Accuracy:  10.0\n",
      "Train set, Epoch 2 [50000/60000]\tLoss: 2.302171\n",
      "Train Accuracy:  10.28\n",
      "\n",
      "Test set, Epoch 2 , Average loss: 2.3077, Accuracy: 525/10000 (5%)\n",
      "\n",
      "Train set, Epoch 3 [0/60000]\tLoss: 2.304964\n",
      "Train Accuracy:  7.0\n",
      "Train set, Epoch 3 [50000/60000]\tLoss: 2.301806\n",
      "Train Accuracy:  10.67\n",
      "\n",
      "Test set, Epoch 3 , Average loss: 2.3084, Accuracy: 1155/10000 (12%)\n",
      "\n"
     ]
    }
   ],
   "source": [
    "model = LeNet()\n",
    "\n",
    "optimizer = optim.Adam(model.parameters(), lr=0.0001)\n",
    "m1_train_loss_arr = []\n",
    "m1_test_loss_arr = []\n",
    "\n",
    "epochs = 3\n",
    "log_interval = 500\n",
    "for epoch in range(1, epochs + 1):\n",
    "    loss, acc = train(model, optimizer, epoch, train_loader, log_interval = log_interval)\n",
    "    m1_train_loss_arr.append(loss)\n",
    "    loss_test = test(model, epoch, test_loader)\n",
    "    m1_test_loss_arr.append(loss_test)"
   ]
  },
  {
   "cell_type": "code",
   "execution_count": 10,
   "metadata": {},
   "outputs": [],
   "source": [
    "plt.figure(figsize=(12,6))\n",
    "plt.plot(np.arange(0, 50, 1), m1_train_loss_arr, color = \"r\")\n",
    "#plt.plot(np.arange(1, 500, 1), m1_acc_arr, color = \"g\")\n",
    "plt.title('Model Accuracy')\n",
    "plt.legend(['Model 1', 'Model 2'])\n",
    "plt.xlabel('Epoch')\n",
    "plt.ylabel('Accuracy')\n",
    "plt.show()"
   ]
  },
  {
   "cell_type": "code",
   "execution_count": null,
   "metadata": {},
   "outputs": [],
   "source": [
    "temp_1 = []\n",
    "for i in m1_train_loss_arr:\n",
    "    temp_1.append(i.data.numpy().tolist())\n",
    "temp_2 = []\n",
    "for i in m1_test_loss_arr:\n",
    "    temp_2.append(i.data.numpy().tolist())"
   ]
  },
  {
   "cell_type": "code",
   "execution_count": null,
   "metadata": {},
   "outputs": [
    {
     "data": {
      "text/plain": [
       "[2.303287982940674, 2.3040049076080322, 2.3068671226501465]"
      ]
     },
     "execution_count": 11,
     "metadata": {},
     "output_type": "execute_result"
    }
   ],
   "source": [
    "temp_1"
   ]
  },
  {
   "cell_type": "code",
   "execution_count": null,
   "metadata": {},
   "outputs": [
    {
     "data": {
      "text/plain": [
       "[229.74285888671875, 229.86849975585938, 230.52981567382812]"
      ]
     },
     "execution_count": 12,
     "metadata": {},
     "output_type": "execute_result"
    }
   ],
   "source": [
    "temp_2"
   ]
  },
  {
   "cell_type": "code",
   "execution_count": null,
   "metadata": {},
   "outputs": [],
   "source": []
  }
 ],
 "metadata": {
  "interpreter": {
   "hash": "5a03e6978a913b76a01264f69485476c06bb2afb04825931e6a903524ca57e27"
  },
  "kernelspec": {
   "display_name": "Python 3.8.3 64-bit ('base': conda)",
   "language": "python",
   "name": "python3"
  },
  "language_info": {
   "codemirror_mode": {
    "name": "ipython",
    "version": 3
   },
   "file_extension": ".py",
   "mimetype": "text/x-python",
   "name": "python",
   "nbconvert_exporter": "python",
   "pygments_lexer": "ipython3",
   "version": "3.9.7"
  },
  "orig_nbformat": 4
 },
 "nbformat": 4,
 "nbformat_minor": 2
}
