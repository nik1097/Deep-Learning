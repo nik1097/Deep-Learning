{
 "cells": [
  {
   "cell_type": "code",
   "execution_count": 1,
   "id": "1bc550ce-4fa9-4015-825d-26b88f887138",
   "metadata": {},
   "outputs": [],
   "source": [
    "%run data_preprocess.ipynb\n",
    "%run models.ipynb\n",
    "import torch.optim as optim\n",
    "import time\n",
    "import torch\n",
    "import torch.nn as nn\n",
    "from torch.autograd import Variable\n",
    "import torch.nn.functional as F\n",
    "import numpy as np\n",
    "import random\n",
    "from scipy.special import expit"
   ]
  },
  {
   "cell_type": "code",
   "execution_count": 2,
   "id": "b1026bbb-c6e3-47b7-9e89-c347c6045ca5",
   "metadata": {},
   "outputs": [],
   "source": [
    "loss_fn = nn.CrossEntropyLoss()\n",
    "def calculate_loss(x, y, lengths):\n",
    "    batch_size = len(x)\n",
    "    predict_cat = None\n",
    "    groundT_cat = None\n",
    "    flag = True\n",
    "\n",
    "    for batch in range(batch_size):\n",
    "        predict = x[batch]\n",
    "        ground_truth = y[batch]\n",
    "        seq_len = lengths[batch] -1\n",
    "\n",
    "        predict = predict[:seq_len]\n",
    "        ground_truth = ground_truth[:seq_len]\n",
    "        if flag:\n",
    "            predict_cat = predict\n",
    "            groundT_cat = ground_truth\n",
    "            flag = False\n",
    "        else:\n",
    "            predict_cat = torch.cat((predict_cat, predict), dim=0)\n",
    "            groundT_cat = torch.cat((groundT_cat, ground_truth), dim=0)\n",
    "\n",
    "    loss = loss_fn(predict_cat, groundT_cat)\n",
    "    avg_loss = loss/batch_size\n",
    "\n",
    "    return loss"
   ]
  },
  {
   "cell_type": "code",
   "execution_count": 3,
   "id": "74d86572-d9cb-4926-a9bb-6a83ff7d1f36",
   "metadata": {},
   "outputs": [],
   "source": [
    "def minibatch(data):\n",
    "\n",
    "    data.sort(key=lambda x: len(x[1]), reverse=True)\n",
    "    avi_data, captions = zip(*data) \n",
    "    avi_data = torch.stack(avi_data, 0)\n",
    "\n",
    "    # Merge captions (from tuple of 1D tensor to 2D tensor).\n",
    "    lengths = [len(cap) for cap in captions]\n",
    "    targets = torch.zeros(len(captions), max(lengths)).long()\n",
    "    for i, cap in enumerate(captions):\n",
    "        end = lengths[i]\n",
    "        targets[i, :end] = cap[:end]\n",
    "    return avi_data, targets, lengths"
   ]
  },
  {
   "cell_type": "code",
   "execution_count": 5,
   "id": "b79a41ca-a815-4ec6-aeb0-13944c17c087",
   "metadata": {},
   "outputs": [],
   "source": [
    "def train(model, epoch, train_loader = train_dataloader):\n",
    "    model.train()\n",
    "    print(epoch)\n",
    "    model = model.cuda()\n",
    "    parameters = model.parameters()\n",
    "    optimizer = optim.Adam(parameters, lr=0.001)\n",
    "    \n",
    "    for batch_idx, batch in enumerate(train_loader):\n",
    "        avi_feats, ground_truths, lengths = batch\n",
    "        avi_feats, ground_truths = avi_feats.cuda(), ground_truths.cuda()\n",
    "        avi_feats, ground_truths = Variable(avi_feats), Variable(ground_truths)\n",
    "        \n",
    "        optimizer.zero_grad()\n",
    "        seq_logProb, seq_predictions = model(avi_feats, target_sentences=ground_truths, mode='train', tr_steps=epoch)\n",
    "            \n",
    "        ground_truths = ground_truths[:, 1:]  \n",
    "        loss = calculate_loss(seq_logProb, ground_truths, lengths)\n",
    "        loss.backward()\n",
    "        optimizer.step()\n",
    "\n",
    "    loss = loss.item()\n",
    "    print(loss)"
   ]
  },
  {
   "cell_type": "code",
   "execution_count": 6,
   "id": "c876e10e-d8de-40a2-8ffe-24cf3cf98d7b",
   "metadata": {},
   "outputs": [],
   "source": [
    "def evaluate(test_loader = test_dataloader):\n",
    "    # set model to evaluation(testing) mode\n",
    "    model.eval()\n",
    "    test_predictions, test_truth = None, None\n",
    "    for batch_idx, batch in enumerate(test_loader):\n",
    "        avi_feats, ground_truths, lengths = batch\n",
    "        avi_feats, ground_truths = avi_feats.cuda(), ground_truths.cuda()\n",
    "        avi_feats, ground_truths = Variable(avi_feats), Variable(ground_truths)\n",
    "\n",
    "        seq_logProb, seq_predictions = model(avi_feats, mode='inference')\n",
    "        ground_truths = ground_truths[:, 1:]\n",
    "        test_predictions = seq_predictions[:3]\n",
    "        test_truth = ground_truths[:3]\n",
    "        break"
   ]
  },
  {
   "cell_type": "code",
   "execution_count": 7,
   "id": "528e175e-45c1-447e-8e7f-2e4c498a487e",
   "metadata": {},
   "outputs": [
    {
     "name": "stdout",
     "output_type": "stream",
     "text": [
      "1\n",
      "4.175546169281006\n",
      "2\n",
      "3.9250540733337402\n",
      "3\n",
      "3.7937264442443848\n",
      "4\n",
      "3.2259786128997803\n",
      "5\n",
      "3.3789379596710205\n",
      "6\n",
      "3.364809989929199\n",
      "7\n",
      "3.088815212249756\n",
      "8\n",
      "3.287259578704834\n",
      "9\n",
      "3.0930025577545166\n",
      "10\n",
      "3.202562093734741\n",
      "Training finished test  elapsed time:  595.861 seconds. \n",
      "\n"
     ]
    }
   ],
   "source": [
    "epochs_n = 10\n",
    "ModelSaveLoc = 'SavedModel'\n",
    "if not os.path.exists(ModelSaveLoc):\n",
    "    os.mkdir(ModelSaveLoc)\n",
    "\n",
    "encoder = encoderRNN()\n",
    "decoder = decoderRNN(512, len(i2w) +4, len(i2w) +4, 1024, 0.3)\n",
    "model = MODELS(encoder=encoder, decoder=decoder)\n",
    "\n",
    "start = time.time()\n",
    "for epoch in range(epochs_n):\n",
    "    train(model,epoch+1)\n",
    "    evaluate()\n",
    "\n",
    "end = time.time()\n",
    "torch.save(model, \"{}/{}.h5\".format(ModelSaveLoc, 'model0'))\n",
    "print(\"Training finished {}  elapsed time: {: .3f} seconds. \\n\".format('test', end-start))"
   ]
  },
  {
   "cell_type": "code",
   "execution_count": null,
   "id": "ab893be0-ecdc-4811-afa9-05905ecd3f5f",
   "metadata": {},
   "outputs": [],
   "source": []
  }
 ],
 "metadata": {
  "kernelspec": {
   "display_name": "Python 3",
   "language": "python",
   "name": "python3"
  },
  "language_info": {
   "codemirror_mode": {
    "name": "ipython",
    "version": 3
   },
   "file_extension": ".py",
   "mimetype": "text/x-python",
   "name": "python",
   "nbconvert_exporter": "python",
   "pygments_lexer": "ipython3",
   "version": "3.8.12"
  }
 },
 "nbformat": 4,
 "nbformat_minor": 5
}
